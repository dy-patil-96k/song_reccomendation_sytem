{
 "cells": [
  {
   "cell_type": "markdown",
   "id": "702309ce",
   "metadata": {},
   "source": [
    "## IT IS A MACHINE LEARNING MODEL FOR SONG RECOMENDATIONS:\n",
    "- data is taken from kaggle\n",
    "- preprocessing is done by pandas,numpy and sklearn\n",
    "- method is : we taken a count vectorizer and the nearest song is recommended"
   ]
  },
  {
   "cell_type": "code",
   "execution_count": 1,
   "id": "0baf143d",
   "metadata": {},
   "outputs": [],
   "source": [
    "import pandas as pd\n",
    "import numpy as np"
   ]
  },
  {
   "cell_type": "code",
   "execution_count": 2,
   "id": "cdeb4f78",
   "metadata": {},
   "outputs": [],
   "source": [
    "df = pd.read_csv(\"C:/Users/Server/Desktop/fully completed/SRS/songs_normalize.csv\")"
   ]
  },
  {
   "cell_type": "code",
   "execution_count": 3,
   "id": "f083c057",
   "metadata": {},
   "outputs": [
    {
     "name": "stdout",
     "output_type": "stream",
     "text": [
      "           artist                    song  duration_ms  explicit  year  \\\n",
      "0  Britney Spears  Oops!...I Did It Again       211160     False  2000   \n",
      "1       blink-182    All The Small Things       167066     False  1999   \n",
      "2      Faith Hill                 Breathe       250546     False  1999   \n",
      "3        Bon Jovi            It's My Life       224493     False  2000   \n",
      "4          *NSYNC             Bye Bye Bye       200560     False  2000   \n",
      "\n",
      "   popularity  danceability  energy  key  loudness  mode  speechiness  \\\n",
      "0          77         0.751   0.834    1    -5.444     0       0.0437   \n",
      "1          79         0.434   0.897    0    -4.918     1       0.0488   \n",
      "2          66         0.529   0.496    7    -9.007     1       0.0290   \n",
      "3          78         0.551   0.913    0    -4.063     0       0.0466   \n",
      "4          65         0.614   0.928    8    -4.806     0       0.0516   \n",
      "\n",
      "   acousticness  instrumentalness  liveness  valence    tempo         genre  \n",
      "0        0.3000          0.000018    0.3550    0.894   95.053           pop  \n",
      "1        0.0103          0.000000    0.6120    0.684  148.726     rock, pop  \n",
      "2        0.1730          0.000000    0.2510    0.278  136.859  pop, country  \n",
      "3        0.0263          0.000013    0.3470    0.544  119.992   rock, metal  \n",
      "4        0.0408          0.001040    0.0845    0.879  172.656           pop  \n"
     ]
    }
   ],
   "source": [
    "print(df.head())\n",
    "\n"
   ]
  },
  {
   "cell_type": "code",
   "execution_count": 4,
   "id": "d2427ef3",
   "metadata": {},
   "outputs": [
    {
     "name": "stdout",
     "output_type": "stream",
     "text": [
      "           artist                    song  year         genre\n",
      "0  Britney Spears  Oops!...I Did It Again  2000           pop\n",
      "1       blink-182    All The Small Things  1999     rock, pop\n",
      "2      Faith Hill                 Breathe  1999  pop, country\n",
      "3        Bon Jovi            It's My Life  2000   rock, metal\n",
      "4          *NSYNC             Bye Bye Bye  2000           pop\n",
      "(2000, 4)\n"
     ]
    }
   ],
   "source": [
    "df = df[['artist','song','year','genre']]\n",
    "\n",
    "print(df.head())\n",
    "print(df.shape)"
   ]
  },
  {
   "cell_type": "code",
   "execution_count": 5,
   "id": "829a4a18",
   "metadata": {},
   "outputs": [
    {
     "name": "stdout",
     "output_type": "stream",
     "text": [
      "(1930, 4)\n"
     ]
    }
   ],
   "source": [
    "df=df.drop_duplicates()\n",
    "print(df.shape)"
   ]
  },
  {
   "cell_type": "code",
   "execution_count": 6,
   "id": "7c159fa9",
   "metadata": {},
   "outputs": [],
   "source": [
    "df_new = df\n",
    "df = df.to_numpy()\n"
   ]
  },
  {
   "cell_type": "code",
   "execution_count": 7,
   "id": "b9c7dd3b",
   "metadata": {},
   "outputs": [
    {
     "data": {
      "text/plain": [
       "0                       Oops!...I Did It Again\n",
       "1                         All The Small Things\n",
       "2                                      Breathe\n",
       "3                                 It's My Life\n",
       "4                                  Bye Bye Bye\n",
       "                         ...                  \n",
       "1995                                    Sucker\n",
       "1996                              Cruel Summer\n",
       "1997                                The Git Up\n",
       "1998    Dancing With A Stranger (with Normani)\n",
       "1999                                   Circles\n",
       "Name: song, Length: 1930, dtype: object"
      ]
     },
     "execution_count": 7,
     "metadata": {},
     "output_type": "execute_result"
    }
   ],
   "source": [
    "df_new.song"
   ]
  },
  {
   "cell_type": "code",
   "execution_count": 8,
   "id": "9489cd20",
   "metadata": {},
   "outputs": [
    {
     "name": "stdout",
     "output_type": "stream",
     "text": [
      "[['Britney Spears' 'Oops!...I Did It Again' 2000 'pop']\n",
      " ['blink-182' 'All The Small Things' 1999 'rock, pop']\n",
      " ['Faith Hill' 'Breathe' 1999 'pop, country']\n",
      " ...\n",
      " ['Blanco Brown' 'The Git Up' 2019 'hip hop, country']\n",
      " ['Sam Smith' 'Dancing With A Stranger (with Normani)' 2019 'pop']\n",
      " ['Post Malone' 'Circles' 2019 'hip hop']]\n",
      "2\n"
     ]
    }
   ],
   "source": [
    "print(df)\n",
    "print(df.ndim)"
   ]
  },
  {
   "cell_type": "markdown",
   "id": "baca4a22",
   "metadata": {},
   "source": [
    "- row = np.array([1, 2]).reshape(2, 1)\n",
    "- arr_row = np.append(arr, row, axis=1)\n"
   ]
  },
  {
   "cell_type": "code",
   "execution_count": 9,
   "id": "80bcefe6",
   "metadata": {},
   "outputs": [
    {
     "name": "stdout",
     "output_type": "stream",
     "text": [
      "['Britney Spears pop' 'blink-182 rock, pop' 'Faith Hill pop, country' ...\n",
      " 'Blanco Brown hip hop, country' 'Sam Smith pop' 'Post Malone hip hop']\n"
     ]
    }
   ],
   "source": [
    "tags=[]\n",
    "for i in df:\n",
    "      valu = i[0]+\" \"+i[3]\n",
    "      tags = np.append( tags,values=valu)\n",
    "print(tags)\n"
   ]
  },
  {
   "cell_type": "code",
   "execution_count": 10,
   "id": "73abf492",
   "metadata": {},
   "outputs": [
    {
     "name": "stdout",
     "output_type": "stream",
     "text": [
      "<U58\n"
     ]
    }
   ],
   "source": [
    "print (tags.dtype)"
   ]
  },
  {
   "cell_type": "code",
   "execution_count": 11,
   "id": "5a65891c",
   "metadata": {},
   "outputs": [
    {
     "name": "stdout",
     "output_type": "stream",
     "text": [
      "(1930, 4)\n",
      "(1930, 1)\n",
      "2\n",
      "2\n"
     ]
    }
   ],
   "source": [
    "tags = tags.reshape(1930,1)\n",
    "print(df.shape)\n",
    "print(tags.shape)\n",
    "print(df.ndim)\n",
    "print(tags.ndim)\n"
   ]
  },
  {
   "cell_type": "code",
   "execution_count": 12,
   "id": "2c8a2683",
   "metadata": {},
   "outputs": [],
   "source": [
    "df = np.append(df,tags,axis=1)"
   ]
  },
  {
   "cell_type": "code",
   "execution_count": 13,
   "id": "7c8bc44c",
   "metadata": {},
   "outputs": [
    {
     "name": "stdout",
     "output_type": "stream",
     "text": [
      "['Britney Spears' 'Oops!...I Did It Again' 2000 'pop' 'Britney Spears pop'] ['Britney Spears' 'Born to Make You Happy' 1999 'pop' 'Britney Spears pop']\n"
     ]
    }
   ],
   "source": [
    "# print(df.reshape(2000,5))\n",
    "print (df[0],df[34])"
   ]
  },
  {
   "cell_type": "code",
   "execution_count": 14,
   "id": "62946fa9",
   "metadata": {},
   "outputs": [
    {
     "name": "stdout",
     "output_type": "stream",
     "text": [
      "[[0 0 0 ... 0 0 0]\n",
      " [0 0 0 ... 0 0 0]\n",
      " [0 0 0 ... 0 0 0]\n",
      " ...\n",
      " [0 0 0 ... 0 0 0]\n",
      " [0 0 0 ... 0 0 0]\n",
      " [0 0 0 ... 0 0 0]]\n"
     ]
    }
   ],
   "source": [
    "from sklearn.feature_extraction.text import CountVectorizer\n",
    "cv = CountVectorizer(max_features=1000, stop_words='english')\n",
    "\n",
    "vectors = cv.fit_transform(df[:,4]).toarray()\n",
    "# vectors.get_feature_names_out()\n",
    "# print( vectors.vocabulary_)\n",
    "print (vectors)\n"
   ]
  },
  {
   "cell_type": "code",
   "execution_count": 15,
   "id": "520716ba",
   "metadata": {},
   "outputs": [],
   "source": [
    "from sklearn.metrics.pairwise import cosine_similarity\n",
    "similarity = cosine_similarity(vectors)"
   ]
  },
  {
   "cell_type": "code",
   "execution_count": 16,
   "id": "51a15865",
   "metadata": {},
   "outputs": [],
   "source": [
    "recomendation = sorted(list(enumerate(similarity[0])),reverse=True,key=lambda x:x[1])[1:11]"
   ]
  },
  {
   "cell_type": "code",
   "execution_count": 17,
   "id": "7438b7ce",
   "metadata": {},
   "outputs": [],
   "source": [
    "\n",
    "def recommend (title):\n",
    "      song_index= df_new[df_new['song'] == title].index[0]\n",
    "      difference = similarity[song_index]\n",
    "      song_list = sorted(list(enumerate(difference)),reverse=True,key=lambda x:x[1])[1:11] \n",
    "      for i in song_list:\n",
    "            print(df_new.iloc[i[0]]['song'])\n"
   ]
  },
  {
   "cell_type": "code",
   "execution_count": 18,
   "id": "e1cc2378",
   "metadata": {},
   "outputs": [],
   "source": [
    "import pickle\n",
    "pickle.dump(similarity, open('srs_model.pkl', 'wb'))"
   ]
  },
  {
   "cell_type": "code",
   "execution_count": 19,
   "id": "f64f7f32",
   "metadata": {},
   "outputs": [],
   "source": [
    "import pickle\n",
    "\n",
    "pickle.dump(df_new.to_dict(), open('df.pkl','wb'))"
   ]
  },
  {
   "cell_type": "markdown",
   "id": "c423a2fc",
   "metadata": {},
   "source": [
    "#complete\n"
   ]
  },
  {
   "cell_type": "markdown",
   "id": "830691a1",
   "metadata": {},
   "source": []
  },
  {
   "cell_type": "markdown",
   "id": "fd83dea0",
   "metadata": {},
   "source": []
  }
 ],
 "metadata": {
  "kernelspec": {
   "display_name": "Python 3",
   "language": "python",
   "name": "python3"
  },
  "language_info": {
   "codemirror_mode": {
    "name": "ipython",
    "version": 3
   },
   "file_extension": ".py",
   "mimetype": "text/x-python",
   "name": "python",
   "nbconvert_exporter": "python",
   "pygments_lexer": "ipython3",
   "version": "3.13.3"
  }
 },
 "nbformat": 4,
 "nbformat_minor": 5
}
